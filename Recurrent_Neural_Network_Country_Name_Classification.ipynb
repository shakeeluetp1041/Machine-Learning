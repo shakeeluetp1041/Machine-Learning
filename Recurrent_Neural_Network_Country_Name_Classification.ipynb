{
  "nbformat": 4,
  "nbformat_minor": 0,
  "metadata": {
    "colab": {
      "provenance": [],
      "gpuType": "T4",
      "authorship_tag": "ABX9TyMHRvtMfEe3uHolTTphuM6a",
      "include_colab_link": true
    },
    "kernelspec": {
      "name": "python3",
      "display_name": "Python 3"
    },
    "language_info": {
      "name": "python"
    }
  },
  "cells": [
    {
      "cell_type": "markdown",
      "metadata": {
        "id": "view-in-github",
        "colab_type": "text"
      },
      "source": [
        "<a href=\"https://colab.research.google.com/github/shakeeluetp1041/Machine-Learning/blob/main/Recurrent_Neural_Network_Country_Name_Classification.ipynb\" target=\"_parent\"><img src=\"https://colab.research.google.com/assets/colab-badge.svg\" alt=\"Open In Colab\"/></a>"
      ]
    },
    {
      "cell_type": "code",
      "execution_count": null,
      "metadata": {
        "colab": {
          "base_uri": "https://localhost:8080/",
          "height": 449
        },
        "id": "hee1xK9WMrRl",
        "outputId": "c0228c5f-9dd7-491c-f9cc-178b31b40b45"
      },
      "outputs": [
        {
          "output_type": "display_data",
          "data": {
            "text/plain": [
              "<Figure size 640x480 with 1 Axes>"
            ],
            "image/png": "[encoded data removed]"
          },
          "metadata": {}
        }
      ],
      "source": [
        "# Connecting the googlecolab to gooledrive for accessing the data\n",
        "from google.colab import drive\n",
        "drive.mount('/content/drive')\n",
        "import torch\n",
        "import torch.nn as nn\n",
        "import matplotlib.pyplot as plt\n",
        "import unicodedata\n",
        "import string\n",
        "from pathlib import Path\n",
        "import glob\n",
        "import os\n",
        "\n",
        "#Device agnostic code\n",
        "device='cuda' if torch.cuda.is_available() else 'cpu'\n",
        "# !nvidia-smi\n",
        "\n",
        "all_letters = string.ascii_letters + \" .,;'\"# adding few more characters to the ascii\n",
        "n_letters = len(all_letters)\n",
        "# Turn a Unicode string to plain ASCII, thanks to https://stackoverflow.com/a/518232/2809427\n",
        "def unicodeToAscii(s:string):\n",
        "    return ''.join(\n",
        "        c for c in unicodedata.normalize('NFD', s)\n",
        "        if unicodedata.category(c) != 'Mn'\n",
        "        and c in all_letters\n",
        "    )\n",
        "files=glob.glob(('/content/drive/MyDrive/data_names/names/*.txt'))\n",
        "def findFiles(path:str):\n",
        "  return glob.glob(path)\n",
        "def readlines(filename):\n",
        "  f=open(filename,'r')\n",
        "  return f.read().strip().split('\\n')\n",
        "\n",
        "all_categories=[]\n",
        "category_lines={}\n",
        "for filename in findFiles('/content/drive/MyDrive/data_names/names/*.txt'):\n",
        "  category=os.path.splitext(os.path.basename(filename))[0]\n",
        "  all_categories.append(category)\n",
        "  lines=readlines(filename)\n",
        "  category_lines[category]=lines\n",
        "\n",
        "n_categories=len(all_categories)\n",
        "def random_example(category_lines:dict,all_categories:list):\n",
        "  random_country_idx=torch.randint(0,len(all_categories),(1,))\n",
        "  country_name=all_categories[random_country_idx]\n",
        "  random_person_idx=torch.randint(0,len(category_lines[country_name]),(1,))\n",
        "  person_name=category_lines[country_name][random_person_idx]\n",
        "  return country_name,person_name\n",
        "\n",
        "def letterToIndex(letter:str):\n",
        "  return all_letters.find(letter)\n",
        "def letterToTensor(letter:str):\n",
        "  tensor=torch.zeros(1,n_letters)\n",
        "  tensor[0][letterToIndex(letter)]=1\n",
        "  return tensor\n",
        "\n",
        "def lineToTensor(line):\n",
        "  tensor=torch.zeros(len(line),n_letters)\n",
        "  for i,letter in enumerate(line):\n",
        "    tensor[i][letterToIndex(letter)]=1\n",
        "  return tensor\n",
        "lineToTensor('ab'),lineToTensor('ab')\n",
        "\n",
        "def category_from_output(output,all_categories):\n",
        "  category_idx=torch.argmax(output,dim=1)\n",
        "  return all_categories[category_idx]\n",
        "\n",
        "class RNN(nn.Module):\n",
        "  def __init__(self,input_size,hidden_size,output_size):\n",
        "    super(RNN,self).__init__()\n",
        "    self.hidden_size=hidden_size\n",
        "    self.i2h=nn.Linear(input_size+hidden_size,hidden_size) # where is nonlinearity of hidden state\n",
        "    self.i2o=nn.Linear(input_size+hidden_size,output_size)\n",
        "    self.softmax=nn.LogSoftmax(dim=1)    # dim=1 is not clear, what is output at each stage?\n",
        "\n",
        "  def forward(self,input_tensor,hidden_tensor):\n",
        "    combined=torch.cat((input_tensor,hidden_tensor),dim=1)\n",
        "    hidden_tensor=self.i2h(combined)\n",
        "    output=self.i2o(combined)\n",
        "    output=self.softmax(output)\n",
        "    return output,hidden_tensor\n",
        "hidden_size=128\n",
        "torch.manual_seed(42)\n",
        "model=RNN(input_size=n_letters,hidden_size=hidden_size,output_size=n_categories)\n",
        "loss_fn=nn.NLLLoss()\n",
        "optimizer=torch.optim.SGD(model.parameters(),lr=0.005)\n",
        "current_loss=0\n",
        "all_losses=[]\n",
        "plot_step,print_step=1000,5000\n",
        "n_iter=100000 # No of iterations\n",
        "model.train()\n",
        "for i in  range(n_iter):\n",
        "  hidden_tensor=torch.zeros(1,hidden_size)\n",
        "  country_name,person_name=random_example(category_lines,all_categories)\n",
        "  # category_tensor=torch.zeros(1,len(all_categories))\n",
        "  # category_tensor[0][all_categories.index(country_name)]=1\n",
        "  category_tensor= torch.tensor([all_categories.index(country_name)], dtype=torch.long)\n",
        "\n",
        "\n",
        "  for j,letter in enumerate(person_name):\n",
        "    input_tensor=lineToTensor(letter)\n",
        "    output,hidden_tensor=model(input_tensor,hidden_tensor)\n",
        "  loss=loss_fn(output,category_tensor) # Category tesnor?? where item to be used with output\n",
        "  current_loss+=loss.item()\n",
        "  optimizer.zero_grad()\n",
        "  loss.backward()\n",
        "  optimizer.step()\n",
        "  if (i+1)%plot_step==0:\n",
        "      all_losses.append(current_loss/plot_step)\n",
        "      current_loss=0\n",
        "  if (i+1)%print_step==0:\n",
        "    guess=category_from_output(output,all_categories)\n",
        "    print(f'{guess},{country_name},{loss:.4f}')\n",
        "plt.figure\n",
        "plt.plot(all_losses)\n",
        "plt.xlabel('Iterations')\n",
        "plt.ylabel('Loss')\n",
        "\n",
        "plt.show()\n",
        "\n",
        "\n",
        "\n",
        "\n",
        "\n"
      ]
    },
    {
      "cell_type": "code",
      "source": [],
      "metadata": {
        "id": "iB4Yd7Iadi1n"
      },
      "execution_count": null,
      "outputs": []
    },
    {
      "cell_type": "code",
      "source": [
        "type(all_categories)\n",
        "len(all_categories)\n",
        "category_tensor=torch.zeros(1,len(all_categories))\n",
        "category_tensor[0][all_categories.index('German')]=1\n",
        "# category_tensor[0][15]=1\n",
        "all_categories.index('Czech'),category_tensor,all_categories\n"
      ],
      "metadata": {
        "colab": {
          "base_uri": "https://localhost:8080/"
        },
        "id": "AVY4Iy45Qvsk",
        "outputId": "e160bc5f-6d00-4662-9eae-4f42783b0ff1"
      },
      "execution_count": null,
      "outputs": [
        {
          "output_type": "execute_result",
          "data": {
            "text/plain": [
              "(0,\n",
              " tensor([[0., 0., 1., 0., 0., 0., 0., 0., 0., 0., 0., 0., 0., 0., 0., 0., 0., 0.]]),\n",
              " ['Czech',\n",
              "  'Portuguese',\n",
              "  'German',\n",
              "  'English',\n",
              "  'Scottish',\n",
              "  'Russian',\n",
              "  'Korean',\n",
              "  'Arabic',\n",
              "  'Italian',\n",
              "  'Vietnamese',\n",
              "  'Greek',\n",
              "  'Irish',\n",
              "  'Chinese',\n",
              "  'French',\n",
              "  'Dutch',\n",
              "  'Spanish',\n",
              "  'Polish',\n",
              "  'Japanese'])"
            ]
          },
          "metadata": {},
          "execution_count": 3
        }
      ]
    },
    {
      "cell_type": "code",
      "source": [
        "torch.max(torch.randint(0,18,(5000,)))\n"
      ],
      "metadata": {
        "colab": {
          "base_uri": "https://localhost:8080/"
        },
        "id": "LmnX4OloNxQ6",
        "outputId": "d18ae525-3b3a-4fee-ba89-22d7d7e2e9d6"
      },
      "execution_count": null,
      "outputs": [
        {
          "output_type": "execute_result",
          "data": {
            "text/plain": [
              "tensor(17)"
            ]
          },
          "metadata": {},
          "execution_count": 4
        }
      ]
    },
    {
      "cell_type": "code",
      "source": [],
      "metadata": {
        "id": "lYxB863ieQNh"
      },
      "execution_count": null,
      "outputs": []
    }
  ]
}