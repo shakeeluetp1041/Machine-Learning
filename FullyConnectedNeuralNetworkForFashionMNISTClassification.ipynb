{
  "nbformat": 4,
  "nbformat_minor": 0,
  "metadata": {
    "colab": {
      "provenance": [],
      "gpuType": "T4",
      "authorship_tag": "ABX9TyOassosoxiFqiO5lA5LjYsj",
      "include_colab_link": true
    },
    "kernelspec": {
      "name": "python3",
      "display_name": "Python 3"
    },
    "language_info": {
      "name": "python"
    },
    "accelerator": "GPU",
    "widgets": {
      "application/vnd.jupyter.widget-state+json": {
        "1425039e30044bbf9cc5dfaa1d3b830d": {
          "model_module": "@jupyter-widgets/controls",
          "model_name": "HBoxModel",
          "model_module_version": "1.5.0",
          "state": {
            "_dom_classes": [],
            "_model_module": "@jupyter-widgets/controls",
            "_model_module_version": "1.5.0",
            "_model_name": "HBoxModel",
            "_view_count": null,
            "_view_module": "@jupyter-widgets/controls",
            "_view_module_version": "1.5.0",
            "_view_name": "HBoxView",
            "box_style": "",
            "children": [
              "IPY_MODEL_569fd73274424df2ba081c3fecd360d9",
              "IPY_MODEL_500417bc7b0e404e958b8cb3e9ba50db",
              "IPY_MODEL_3f823773d4204c92bc17f262a7de4330"
            ],
            "layout": "IPY_MODEL_48ec6628096440428d0081491e060ce0"
          }
        },
        "569fd73274424df2ba081c3fecd360d9": {
          "model_module": "@jupyter-widgets/controls",
          "model_name": "HTMLModel",
          "model_module_version": "1.5.0",
          "state": {
            "_dom_classes": [],
            "_model_module": "@jupyter-widgets/controls",
            "_model_module_version": "1.5.0",
            "_model_name": "HTMLModel",
            "_view_count": null,
            "_view_module": "@jupyter-widgets/controls",
            "_view_module_version": "1.5.0",
            "_view_name": "HTMLView",
            "description": "",
            "description_tooltip": null,
            "layout": "IPY_MODEL_092628d83ea842d28332b1c98acb3926",
            "placeholder": "​",
            "style": "IPY_MODEL_490c20366c26491cb6721d31fc424d96",
            "value": " 25%"
          }
        },
        "500417bc7b0e404e958b8cb3e9ba50db": {
          "model_module": "@jupyter-widgets/controls",
          "model_name": "FloatProgressModel",
          "model_module_version": "1.5.0",
          "state": {
            "_dom_classes": [],
            "_model_module": "@jupyter-widgets/controls",
            "_model_module_version": "1.5.0",
            "_model_name": "FloatProgressModel",
            "_view_count": null,
            "_view_module": "@jupyter-widgets/controls",
            "_view_module_version": "1.5.0",
            "_view_name": "ProgressView",
            "bar_style": "",
            "description": "",
            "description_tooltip": null,
            "layout": "IPY_MODEL_7fc931f9ae8d49caacd9643b6084f8f1",
            "max": 20,
            "min": 0,
            "orientation": "horizontal",
            "style": "IPY_MODEL_d97656d6432646faa35650eff5a12a92",
            "value": 5
          }
        },
        "3f823773d4204c92bc17f262a7de4330": {
          "model_module": "@jupyter-widgets/controls",
          "model_name": "HTMLModel",
          "model_module_version": "1.5.0",
          "state": {
            "_dom_classes": [],
            "_model_module": "@jupyter-widgets/controls",
            "_model_module_version": "1.5.0",
            "_model_name": "HTMLModel",
            "_view_count": null,
            "_view_module": "@jupyter-widgets/controls",
            "_view_module_version": "1.5.0",
            "_view_name": "HTMLView",
            "description": "",
            "description_tooltip": null,
            "layout": "IPY_MODEL_20c454df2c304fa6aba735ce4029e34e",
            "placeholder": "​",
            "style": "IPY_MODEL_fcdb7bf724e34844a01624ab33588d1d",
            "value": " 5/20 [01:13&lt;03:28, 13.87s/it]"
          }
        },
        "48ec6628096440428d0081491e060ce0": {
          "model_module": "@jupyter-widgets/base",
          "model_name": "LayoutModel",
          "model_module_version": "1.2.0",
          "state": {
            "_model_module": "@jupyter-widgets/base",
            "_model_module_version": "1.2.0",
            "_model_name": "LayoutModel",
            "_view_count": null,
            "_view_module": "@jupyter-widgets/base",
            "_view_module_version": "1.2.0",
            "_view_name": "LayoutView",
            "align_content": null,
            "align_items": null,
            "align_self": null,
            "border": null,
            "bottom": null,
            "display": null,
            "flex": null,
            "flex_flow": null,
            "grid_area": null,
            "grid_auto_columns": null,
            "grid_auto_flow": null,
            "grid_auto_rows": null,
            "grid_column": null,
            "grid_gap": null,
            "grid_row": null,
            "grid_template_areas": null,
            "grid_template_columns": null,
            "grid_template_rows": null,
            "height": null,
            "justify_content": null,
            "justify_items": null,
            "left": null,
            "margin": null,
            "max_height": null,
            "max_width": null,
            "min_height": null,
            "min_width": null,
            "object_fit": null,
            "object_position": null,
            "order": null,
            "overflow": null,
            "overflow_x": null,
            "overflow_y": null,
            "padding": null,
            "right": null,
            "top": null,
            "visibility": null,
            "width": null
          }
        },
        "092628d83ea842d28332b1c98acb3926": {
          "model_module": "@jupyter-widgets/base",
          "model_name": "LayoutModel",
          "model_module_version": "1.2.0",
          "state": {
            "_model_module": "@jupyter-widgets/base",
            "_model_module_version": "1.2.0",
            "_model_name": "LayoutModel",
            "_view_count": null,
            "_view_module": "@jupyter-widgets/base",
            "_view_module_version": "1.2.0",
            "_view_name": "LayoutView",
            "align_content": null,
            "align_items": null,
            "align_self": null,
            "border": null,
            "bottom": null,
            "display": null,
            "flex": null,
            "flex_flow": null,
            "grid_area": null,
            "grid_auto_columns": null,
            "grid_auto_flow": null,
            "grid_auto_rows": null,
            "grid_column": null,
            "grid_gap": null,
            "grid_row": null,
            "grid_template_areas": null,
            "grid_template_columns": null,
            "grid_template_rows": null,
            "height": null,
            "justify_content": null,
            "justify_items": null,
            "left": null,
            "margin": null,
            "max_height": null,
            "max_width": null,
            "min_height": null,
            "min_width": null,
            "object_fit": null,
            "object_position": null,
            "order": null,
            "overflow": null,
            "overflow_x": null,
            "overflow_y": null,
            "padding": null,
            "right": null,
            "top": null,
            "visibility": null,
            "width": null
          }
        },
        "490c20366c26491cb6721d31fc424d96": {
          "model_module": "@jupyter-widgets/controls",
          "model_name": "DescriptionStyleModel",
          "model_module_version": "1.5.0",
          "state": {
            "_model_module": "@jupyter-widgets/controls",
            "_model_module_version": "1.5.0",
            "_model_name": "DescriptionStyleModel",
            "_view_count": null,
            "_view_module": "@jupyter-widgets/base",
            "_view_module_version": "1.2.0",
            "_view_name": "StyleView",
            "description_width": ""
          }
        },
        "7fc931f9ae8d49caacd9643b6084f8f1": {
          "model_module": "@jupyter-widgets/base",
          "model_name": "LayoutModel",
          "model_module_version": "1.2.0",
          "state": {
            "_model_module": "@jupyter-widgets/base",
            "_model_module_version": "1.2.0",
            "_model_name": "LayoutModel",
            "_view_count": null,
            "_view_module": "@jupyter-widgets/base",
            "_view_module_version": "1.2.0",
            "_view_name": "LayoutView",
            "align_content": null,
            "align_items": null,
            "align_self": null,
            "border": null,
            "bottom": null,
            "display": null,
            "flex": null,
            "flex_flow": null,
            "grid_area": null,
            "grid_auto_columns": null,
            "grid_auto_flow": null,
            "grid_auto_rows": null,
            "grid_column": null,
            "grid_gap": null,
            "grid_row": null,
            "grid_template_areas": null,
            "grid_template_columns": null,
            "grid_template_rows": null,
            "height": null,
            "justify_content": null,
            "justify_items": null,
            "left": null,
            "margin": null,
            "max_height": null,
            "max_width": null,
            "min_height": null,
            "min_width": null,
            "object_fit": null,
            "object_position": null,
            "order": null,
            "overflow": null,
            "overflow_x": null,
            "overflow_y": null,
            "padding": null,
            "right": null,
            "top": null,
            "visibility": null,
            "width": null
          }
        },
        "d97656d6432646faa35650eff5a12a92": {
          "model_module": "@jupyter-widgets/controls",
          "model_name": "ProgressStyleModel",
          "model_module_version": "1.5.0",
          "state": {
            "_model_module": "@jupyter-widgets/controls",
            "_model_module_version": "1.5.0",
            "_model_name": "ProgressStyleModel",
            "_view_count": null,
            "_view_module": "@jupyter-widgets/base",
            "_view_module_version": "1.2.0",
            "_view_name": "StyleView",
            "bar_color": null,
            "description_width": ""
          }
        },
        "20c454df2c304fa6aba735ce4029e34e": {
          "model_module": "@jupyter-widgets/base",
          "model_name": "LayoutModel",
          "model_module_version": "1.2.0",
          "state": {
            "_model_module": "@jupyter-widgets/base",
            "_model_module_version": "1.2.0",
            "_model_name": "LayoutModel",
            "_view_count": null,
            "_view_module": "@jupyter-widgets/base",
            "_view_module_version": "1.2.0",
            "_view_name": "LayoutView",
            "align_content": null,
            "align_items": null,
            "align_self": null,
            "border": null,
            "bottom": null,
            "display": null,
            "flex": null,
            "flex_flow": null,
            "grid_area": null,
            "grid_auto_columns": null,
            "grid_auto_flow": null,
            "grid_auto_rows": null,
            "grid_column": null,
            "grid_gap": null,
            "grid_row": null,
            "grid_template_areas": null,
            "grid_template_columns": null,
            "grid_template_rows": null,
            "height": null,
            "justify_content": null,
            "justify_items": null,
            "left": null,
            "margin": null,
            "max_height": null,
            "max_width": null,
            "min_height": null,
            "min_width": null,
            "object_fit": null,
            "object_position": null,
            "order": null,
            "overflow": null,
            "overflow_x": null,
            "overflow_y": null,
            "padding": null,
            "right": null,
            "top": null,
            "visibility": null,
            "width": null
          }
        },
        "fcdb7bf724e34844a01624ab33588d1d": {
          "model_module": "@jupyter-widgets/controls",
          "model_name": "DescriptionStyleModel",
          "model_module_version": "1.5.0",
          "state": {
            "_model_module": "@jupyter-widgets/controls",
            "_model_module_version": "1.5.0",
            "_model_name": "DescriptionStyleModel",
            "_view_count": null,
            "_view_module": "@jupyter-widgets/base",
            "_view_module_version": "1.2.0",
            "_view_name": "StyleView",
            "description_width": ""
          }
        }
      }
    }
  },
  "cells": [
    {
      "cell_type": "markdown",
      "metadata": {
        "id": "view-in-github",
        "colab_type": "text"
      },
      "source": [
        "<a href=\"https://colab.research.google.com/github/shakeeluetp1041/Machine-Learning/blob/main/FullyConnectedNeuralNetworkForFashionMNISTClassification.ipynb\" target=\"_parent\"><img src=\"https://colab.research.google.com/assets/colab-badge.svg\" alt=\"Open In Colab\"/></a>"
      ]
    },
    {
      "cell_type": "markdown",
      "source": [
        "Code for Classification of FashionMNIST datsets using the fully connected neural network"
      ],
      "metadata": {
        "id": "GrZOVotcZov3"
      }
    },
    {
      "cell_type": "code",
      "source": [
        "from google.colab import drive\n",
        "drive.mount('/content/drive')"
      ],
      "metadata": {
        "id": "PIY3Teudbs0-",
        "colab": {
          "base_uri": "https://localhost:8080/"
        },
        "outputId": "70096d9e-e8dd-418e-e953-ef5217c8cea8"
      },
      "execution_count": null,
      "outputs": [
        {
          "output_type": "stream",
          "name": "stdout",
          "text": [
            "Mounted at /content/drive\n"
          ]
        }
      ]
    },
    {
      "cell_type": "code",
      "execution_count": null,
      "metadata": {
        "id": "9t8hKKvsYkFJ"
      },
      "outputs": [],
      "source": [
        "#Import libraries\n",
        "import torch\n",
        "import numpy as np\n",
        "import sklearn\n",
        "from sklearn.model_selection import train_test_split\n",
        "device='cuda' if torch.cuda.is_available() else 'cpu'\n",
        "from torch.utils.data import Dataset, DataLoader\n",
        "from torchvision import datasets, transforms\n",
        "from pathlib import Path\n",
        "import matplotlib.pyplot as plt\n",
        "import random\n",
        "from torch import nn\n",
        "from time import time\n",
        "from tqdm.auto import tqdm"
      ]
    },
    {
      "cell_type": "code",
      "source": [
        "# Dowload dataset\n",
        "train_dataset = datasets.FashionMNIST(root='data', train = True, transform= transforms.ToTensor(), target_transform= None, download=True)\n",
        "test_dataset = datasets.FashionMNIST(root='data', train = False, transform= transforms.ToTensor(), target_transform= None, download=True)\n"
      ],
      "metadata": {
        "id": "TOSiAa-E2EuE",
        "colab": {
          "base_uri": "https://localhost:8080/"
        },
        "outputId": "8d6729f2-75b1-42fb-9a60-a86598f72553",
        "collapsed": true
      },
      "execution_count": null,
      "outputs": [
        {
          "output_type": "stream",
          "name": "stdout",
          "text": [
            "Downloading http://fashion-mnist.s3-website.eu-central-1.amazonaws.com/train-images-idx3-ubyte.gz\n",
            "Downloading http://fashion-mnist.s3-website.eu-central-1.amazonaws.com/train-images-idx3-ubyte.gz to data/FashionMNIST/raw/train-images-idx3-ubyte.gz\n"
          ]
        },
        {
          "output_type": "stream",
          "name": "stderr",
          "text": [
            "100%|██████████| 26.4M/26.4M [00:02<00:00, 11.2MB/s]\n"
          ]
        },
        {
          "output_type": "stream",
          "name": "stdout",
          "text": [
            "Extracting data/FashionMNIST/raw/train-images-idx3-ubyte.gz to data/FashionMNIST/raw\n",
            "\n",
            "Downloading http://fashion-mnist.s3-website.eu-central-1.amazonaws.com/train-labels-idx1-ubyte.gz\n",
            "Downloading http://fashion-mnist.s3-website.eu-central-1.amazonaws.com/train-labels-idx1-ubyte.gz to data/FashionMNIST/raw/train-labels-idx1-ubyte.gz\n"
          ]
        },
        {
          "output_type": "stream",
          "name": "stderr",
          "text": [
            "100%|██████████| 29.5k/29.5k [00:00<00:00, 200kB/s]\n"
          ]
        },
        {
          "output_type": "stream",
          "name": "stdout",
          "text": [
            "Extracting data/FashionMNIST/raw/train-labels-idx1-ubyte.gz to data/FashionMNIST/raw\n",
            "\n",
            "Downloading http://fashion-mnist.s3-website.eu-central-1.amazonaws.com/t10k-images-idx3-ubyte.gz\n",
            "Downloading http://fashion-mnist.s3-website.eu-central-1.amazonaws.com/t10k-images-idx3-ubyte.gz to data/FashionMNIST/raw/t10k-images-idx3-ubyte.gz\n"
          ]
        },
        {
          "output_type": "stream",
          "name": "stderr",
          "text": [
            "100%|██████████| 4.42M/4.42M [00:01<00:00, 3.75MB/s]\n"
          ]
        },
        {
          "output_type": "stream",
          "name": "stdout",
          "text": [
            "Extracting data/FashionMNIST/raw/t10k-images-idx3-ubyte.gz to data/FashionMNIST/raw\n",
            "\n",
            "Downloading http://fashion-mnist.s3-website.eu-central-1.amazonaws.com/t10k-labels-idx1-ubyte.gz\n",
            "Downloading http://fashion-mnist.s3-website.eu-central-1.amazonaws.com/t10k-labels-idx1-ubyte.gz to data/FashionMNIST/raw/t10k-labels-idx1-ubyte.gz\n"
          ]
        },
        {
          "output_type": "stream",
          "name": "stderr",
          "text": [
            "100%|██████████| 5.15k/5.15k [00:00<00:00, 15.5MB/s]"
          ]
        },
        {
          "output_type": "stream",
          "name": "stdout",
          "text": [
            "Extracting data/FashionMNIST/raw/t10k-labels-idx1-ubyte.gz to data/FashionMNIST/raw\n",
            "\n"
          ]
        },
        {
          "output_type": "stream",
          "name": "stderr",
          "text": [
            "\n"
          ]
        }
      ]
    },
    {
      "cell_type": "code",
      "source": [
        "BATCH_SIZE = 32  # Set the desired batch size\n",
        "train_loader = DataLoader(train_dataset, batch_size=BATCH_SIZE, shuffle=True)\n",
        "test_loader = DataLoader(test_dataset, batch_size=BATCH_SIZE, shuffle=False)\n",
        "Sample_Images,Sample_Labels= next(iter(train_loader))\n"
      ],
      "metadata": {
        "id": "htpL5_Td348d"
      },
      "execution_count": null,
      "outputs": []
    },
    {
      "cell_type": "code",
      "source": [
        "# Function to calculate the accuracay\n",
        "def accuracy_fn(y_true,y_predicted):\n",
        "  count=torch.eq(y_true,y_predicted).sum().item()\n",
        "  acc=(count/len(y_true))*100\n",
        "  return acc\n",
        "# Neural network archetecture\n",
        "class FashionMNISTClassification(nn.Module):\n",
        "  def __init__(self,INPUT_UNITS,HIDDEN_UNITS,OUTPUT_UNITS):\n",
        "    super().__init__()\n",
        "    self.layer=nn.Sequential(\n",
        "        nn.Flatten(),\n",
        "        nn.Linear(in_features=INPUT_UNITS,out_features=HIDDEN_UNITS),\n",
        "        nn.Linear(in_features=HIDDEN_UNITS,out_features=OUTPUT_UNITS)\n",
        "    )\n",
        "  def forward (self,x):\n",
        "    return self.layer(x)\n",
        "\n",
        "INPUT_UNITS=len(Sample_Images[0][0,:,0])*len(Sample_Images[0][0,0,:])\n",
        "HIDDEN_UNITS=128\n",
        "OUTPUT_UNITS=len(train_dataset.classes)\n",
        "torch.manual_seed(42)\n",
        "torch.cuda.manual_seed(42)\n",
        "# Model Instentiation\n",
        "model=FashionMNISTClassification(INPUT_UNITS,HIDDEN_UNITS,OUTPUT_UNITS)"
      ],
      "metadata": {
        "id": "8g_EeZEqsTvF"
      },
      "execution_count": null,
      "outputs": []
    },
    {
      "cell_type": "code",
      "source": [
        "#Defive the loss function for multiclass classification\n",
        "loss_fn=nn.CrossEntropyLoss()\n",
        "# Define Optimizer (stochastic gradinet descent SGD)\n",
        "optimizer=torch.optim.SGD(params=model.parameters(),lr=0.1)\n",
        "\n",
        "start_time=time() # Start the timer\n",
        "epochs=20\n",
        "for epoch in tqdm(range(epochs)): # tqdm for the progress bar\n",
        "  model.train() # Training loop start here\n",
        "  running_train_loss=0\n",
        "  running_train_acc=0\n",
        "  for Images_train,Labels_train in train_loader: # Batch loop start here\n",
        "    y_train_logits=model(Images_train)\n",
        "    y_train_probs=torch.softmax(y_train_logits,dim=1)\n",
        "    y_train_pred_labels=torch.argmax(y_train_probs,dim=1)\n",
        "    train_batch_loss=loss_fn(y_train_logits,Labels_train)\n",
        "    running_train_loss+=train_batch_loss\n",
        "    train_batch_acc=accuracy_fn(y_true=Labels_train,y_predicted=y_train_pred_labels)\n",
        "    running_train_acc+=train_batch_acc\n",
        "    optimizer.zero_grad()\n",
        "    train_batch_loss.backward()\n",
        "    optimizer.step()\n",
        "  train_loss=running_train_loss/len(train_loader)\n",
        "  train_acc=running_train_acc/len(train_loader)\n",
        "  model.eval() # Evaluation mode start here, evaluate after each epoch\n",
        "  with torch.inference_mode(): # Inference mode start\n",
        "    running_test_loss=0\n",
        "    running_test_acc=0\n",
        "    for Images_test,Labels_test in test_loader:\n",
        "      y_test_logits=model(Images_test)\n",
        "      y_test_probs=torch.softmax(y_test_logits,dim=1)\n",
        "      y_test_pred_labels=torch.argmax(y_test_probs,dim=1)\n",
        "      test_batch_loss=loss_fn(y_test_logits,Labels_test)\n",
        "      running_test_loss+=test_batch_loss\n",
        "      test_batch_acc=accuracy_fn(y_true=Labels_test,y_predicted=y_test_pred_labels)\n",
        "      running_test_acc+=test_batch_acc\n",
        "    test_loss=running_test_loss/len(test_loader)\n",
        "    test_acc=running_test_acc/len(test_loader)\n",
        "\n",
        "  if epoch%2==0:\n",
        "    print(f\"EPOCHS:{epoch} | Train Loss: {train_loss} | Train Acc: {train_acc:.4f} | Test Loss: {test_loss} | Test Acc: {test_acc:.4f}\")\n",
        "end_time=time()\n",
        "print(f\"Total Time:{end_time-start_time}\")"
      ],
      "metadata": {
        "colab": {
          "base_uri": "https://localhost:8080/",
          "height": 101,
          "referenced_widgets": [
            "1425039e30044bbf9cc5dfaa1d3b830d",
            "569fd73274424df2ba081c3fecd360d9",
            "500417bc7b0e404e958b8cb3e9ba50db",
            "3f823773d4204c92bc17f262a7de4330",
            "48ec6628096440428d0081491e060ce0",
            "092628d83ea842d28332b1c98acb3926",
            "490c20366c26491cb6721d31fc424d96",
            "7fc931f9ae8d49caacd9643b6084f8f1",
            "d97656d6432646faa35650eff5a12a92",
            "20c454df2c304fa6aba735ce4029e34e",
            "fcdb7bf724e34844a01624ab33588d1d"
          ]
        },
        "id": "sDDd1UqQ4qvx",
        "outputId": "262a6f7e-aec0-425b-b44f-632b7677e0aa",
        "collapsed": true
      },
      "execution_count": null,
      "outputs": [
        {
          "output_type": "display_data",
          "data": {
            "text/plain": [
              "  0%|          | 0/20 [00:00<?, ?it/s]"
            ],
            "application/vnd.jupyter.widget-view+json": {
              "version_major": 2,
              "version_minor": 0,
              "model_id": "1425039e30044bbf9cc5dfaa1d3b830d"
            }
          },
          "metadata": {}
        },
        {
          "output_type": "stream",
          "name": "stdout",
          "text": [
            "EPOCHS:0 | Train Loss: 0.5765990018844604 | Train Acc: 79.5600 | Test Loss: 0.5530450344085693 | Test Acc: 80.2716\n",
            "EPOCHS:2 | Train Loss: 0.45339640974998474 | Train Acc: 84.1100 | Test Loss: 0.4766421616077423 | Test Acc: 83.3866\n",
            "EPOCHS:4 | Train Loss: 0.43413808941841125 | Train Acc: 84.8633 | Test Loss: 0.5113363265991211 | Test Acc: 80.9105\n"
          ]
        }
      ]
    }
  ]
}